{
 "cells": [
  {
   "cell_type": "code",
   "execution_count": null,
   "id": "e11a0a4f-9768-4f21-8317-9fab30c17f57",
   "metadata": {
    "ExecuteTime": {
     "end_time": "2025-04-18T19:55:14.725753Z",
     "start_time": "2025-04-18T19:55:13.462522Z"
    }
   },
   "outputs": [],
   "source": [
    "!pip install streamlit yfinance openai googlesearch-python gtts beautifulsoup4 requests get-all-tickers langchain_community sentence_transformers chromadb"
   ]
  },
  {
   "cell_type": "code",
   "execution_count": 1,
   "id": "89e2ba1c-5efb-4f65-b6b6-4fc5892bf4df",
   "metadata": {
    "ExecuteTime": {
     "end_time": "2025-04-20T07:25:53.851945Z",
     "start_time": "2025-04-20T07:25:52.867436Z"
    }
   },
   "outputs": [],
   "source": [
    "import yfinance as yf\n",
    "import pandas as pd\n",
    "# from langchain_community.vectorstores import Chroma\n",
    "# from langchain_community.embeddings import HuggingFaceEmbeddings\n",
    "import os\n",
    "import time\n",
    "from random import uniform\n",
    "import random\n",
    "\n",
    "from langchain_huggingface import HuggingFaceEmbeddings  \n",
    "from langchain_chroma import Chroma "
   ]
  },
  {
   "cell_type": "code",
   "execution_count": null,
   "id": "91c25086",
   "metadata": {
    "ExecuteTime": {
     "start_time": "2025-04-20T07:25:10.044Z"
    }
   },
   "outputs": [
    {
     "name": "stdout",
     "output_type": "stream",
     "text": [
      "> Processed 100 tickers...\n",
      "> Processed 200 tickers...\n"
     ]
    }
   ],
   "source": [
    "\n",
    "# Load  tickers\n",
    "nasdaq_url = \"https://www.nasdaqtrader.com/dynamic/SymDir/nasdaqlisted.txt\"\n",
    "nasdaq_df = pd.read_csv(nasdaq_url, sep='|')\n",
    "all_tickers = nasdaq_df['Symbol'].tolist()\n",
    "\n",
    "data = []\n",
    "\n",
    "def fetch_info_with_retry(ticker, max_retries=2, initial_wait=2):\n",
    "    retries = 0\n",
    "    while retries < max_retries:\n",
    "        try:\n",
    "            info = yf.Ticker(ticker).info\n",
    "            return {\n",
    "                \"Ticker\": ticker,\n",
    "                \"Sector\": info.get(\"sector\", \"N/A\"),\n",
    "                \"Industry\": info.get(\"industry\", \"N/A\"),\n",
    "                \"Description\": info.get(\"longBusinessSummary\", \"N/A\")\n",
    "            }\n",
    "        except Exception as e:\n",
    "            retries += 1\n",
    "            wait = initial_wait * (2 ** (retries - 1)) + random.uniform(0, 1)\n",
    "            print(f\"[Retry {retries}] Error for {ticker}: {e} — retrying in {wait:.2f}s...\")\n",
    "            time.sleep(wait)\n",
    "    print(f\"[Skipped] Max retries exceeded for {ticker}\")\n",
    "    return None\n",
    "\n",
    "for idx, ticker in enumerate(all_tickers, 1):\n",
    "    result = fetch_info_with_retry(ticker)\n",
    "    if result is not None:\n",
    "        data.append(result)\n",
    "\n",
    "    if idx % 100 == 0:\n",
    "        print(f\"> Processed {idx} tickers...\")\n",
    "\n",
    "# Convert to DataFrame and clean\n",
    "df = pd.DataFrame(data)\n",
    "df.replace(\"N/A\", pd.NA, inplace=True)\n",
    "df.dropna(inplace=True)\n",
    "\n",
    "print(f\"\\n✅ Retrieval complete. Final dataset contains {len(df)} entries.\")"
   ]
  },
  {
   "cell_type": "code",
   "execution_count": 3,
   "id": "77d779fd-1536-475a-949d-3818500c3f99",
   "metadata": {
    "ExecuteTime": {
     "end_time": "2025-04-20T07:28:19.780364Z",
     "start_time": "2025-04-20T07:28:19.684972Z"
    }
   },
   "outputs": [],
   "source": [
    "# df\n",
    "# df.to_csv(\"stock_info.csv\", index=False)\n",
    "\n",
    "\n",
    "df = pd.read_csv(\"stock_info.csv\")"
   ]
  },
  {
   "cell_type": "code",
   "execution_count": 5,
   "id": "754691ab-69ac-49db-9412-c3368116db7f",
   "metadata": {
    "ExecuteTime": {
     "end_time": "2025-04-20T07:30:22.394131Z",
     "start_time": "2025-04-20T07:30:00.889817Z"
    }
   },
   "outputs": [
    {
     "name": "stdout",
     "output_type": "stream",
     "text": [
      "✅ Vector DB created and saved to disk.\n"
     ]
    }
   ],
   "source": [
    "\n",
    "\n",
    "\n",
    "\n",
    "# ----------------------------------------\n",
    "# 0. Load or ensure df is in memory\n",
    "# ----------------------------------------\n",
    "# df = pd.read_pickle(\"metadata.pkl\")  # Uncomment if loading from file\n",
    "\n",
    "# -----------------------------\n",
    "# 1. Embedding Model\n",
    "# -----------------------------\n",
    "embedding_model = HuggingFaceEmbeddings(model_name=\"all-MiniLM-L6-v2\")\n",
    "\n",
    "# -----------------------------\n",
    "# 2. Prepare Texts + Metadata\n",
    "# -----------------------------\n",
    "texts = []\n",
    "metadatas = []\n",
    "\n",
    "for _, row in df.iterrows():\n",
    "    text = f\"{row['Ticker']} - {row['Description']}\"\n",
    "    metadata = {\n",
    "        \"ticker\": row['Ticker'],\n",
    "        \"sector\": row['Sector'],\n",
    "        \"industry\": row['Industry']\n",
    "    }\n",
    "    texts.append(text)\n",
    "    metadatas.append(metadata)\n",
    "\n",
    "# -----------------------------\n",
    "# 3. Define DB Directory\n",
    "# -----------------------------\n",
    "persist_dir = \"company_vectors\"\n",
    "\n",
    "\n",
    "# -----------------------------\n",
    "# 4. Create & Save Vector DB\n",
    "# -----------------------------\n",
    "vectorstore = Chroma.from_texts(\n",
    "    texts=texts,\n",
    "    embedding=embedding_model,\n",
    "    metadatas=metadatas,\n",
    "    persist_directory=persist_dir  # ❗ Let Chroma create this\n",
    ")\n",
    "\n",
    "\n",
    "print(\"✅ Vector DB created and saved to disk.\")\n",
    "\n"
   ]
  },
  {
   "cell_type": "code",
   "execution_count": 6,
   "id": "87635a3a",
   "metadata": {
    "ExecuteTime": {
     "end_time": "2025-04-20T07:30:57.018076Z",
     "start_time": "2025-04-20T07:30:52.420976Z"
    }
   },
   "outputs": [
    {
     "name": "stdout",
     "output_type": "stream",
     "text": [
      "\n",
      "🔍 Query Result:\n",
      "\n",
      "📄 PYPL - PayPal Holdings, Inc. operates a technology platform that enables digital payments for merchants and consumers worldwide. It operates a two-sided network at scale that connects merchants and consumers that enables its customers to connect, transact, and send and receive payments through online and in person, as well as transfer and withdraw funds using various funding sources, such as bank accounts, PayPal or Venmo account balance, consumer credit products, credit and debit cards, and cryptocurrencies, as well as other stored value products, including gift cards and eligible rewards. The company provides payment solutions under the PayPal, PayPal Credit, Braintree, Venmo, Xoom, Zettle, Hyperwallet, Honey, and Paidy names. The company was founded in 1998 and is headquartered in San Jose, California.\n",
      "🧾 Metadata: {'industry': 'Credit Services', 'sector': 'Financial Services', 'ticker': 'PYPL'}\n",
      "\n",
      "📄 PYPL - PayPal Holdings, Inc. operates a technology platform that enables digital payments for merchants and consumers worldwide. It operates a two-sided network at scale that connects merchants and consumers that enables its customers to connect, transact, and send and receive payments through online and in person, as well as transfer and withdraw funds using various funding sources, such as bank accounts, PayPal or Venmo account balance, consumer credit products, credit and debit cards, and cryptocurrencies, as well as other stored value products, including gift cards and eligible rewards. The company provides payment solutions under the PayPal, PayPal Credit, Braintree, Venmo, Xoom, Zettle, Hyperwallet, Honey, and Paidy names. The company was founded in 1998 and is headquartered in San Jose, California.\n",
      "🧾 Metadata: {'industry': 'Credit Services', 'sector': 'Financial Services', 'ticker': 'PYPL'}\n",
      "\n",
      "📄 APCXW - AppTech Payments Corp., a financial technology company, provides electronic payment processing technologies and merchant services in the United States. Its merchant transaction services offer processing payments for credit and debit cards through point-of-sale equipment, e-commerce gateways, periodic automatic clearing house payments, and gift and loyalty programs. The company also offers integrated solutions for frictionless digital and mobile payment acceptance, as well as multi-use case, multi-channel, API-driven, and account-based issuer processing for card, digital tokens, and payment transfer transaction services; hosted ecommerce checkout, a flexible payment gateway; and text payment technology, alternative payment methods (APMs), and contactless payments. In addition, it provides FinZeo, a fintech platform. The company was formerly known as AppTech Corp. AppTech Payments Corp. was incorporated in 1998 and is headquartered in Carlsbad, California.\n",
      "🧾 Metadata: {'industry': 'Software - Infrastructure', 'sector': 'Technology', 'ticker': 'APCXW'}\n"
     ]
    }
   ],
   "source": [
    "#vectorDB now loaded on Hugging Face Hub\n",
    "#https://huggingface.co/datasets/gargumang411/company_vectors/tree/main\n",
    "\n",
    "# -----------------------------\n",
    "# 5. Run a Sample Query (Optional)\n",
    "\n",
    "# -----------------------------\n",
    "\n",
    "embedding_model = HuggingFaceEmbeddings(model_name=\"all-MiniLM-L6-v2\")\n",
    "\n",
    "vectorstore = Chroma(\n",
    "    persist_directory=\"company_vectors\",\n",
    "    embedding_function=embedding_model\n",
    ")\n",
    "query = \"What does paypal do?\"\n",
    "results = vectorstore.similarity_search(query, k=3)\n",
    "\n",
    "print(\"\\n🔍 Query Result:\")\n",
    "for res in results:\n",
    "    print(f\"\\n📄 {res.page_content}\\n🧾 Metadata: {res.metadata}\")"
   ]
  },
  {
   "cell_type": "code",
   "execution_count": null,
   "id": "98725cfb",
   "metadata": {},
   "outputs": [],
   "source": []
  }
 ],
 "metadata": {
  "kernelspec": {
   "display_name": "Python 3 (ipykernel)",
   "language": "python",
   "name": "python3"
  },
  "language_info": {
   "codemirror_mode": {
    "name": "ipython",
    "version": 3
   },
   "file_extension": ".py",
   "mimetype": "text/x-python",
   "name": "python",
   "nbconvert_exporter": "python",
   "pygments_lexer": "ipython3",
   "version": "3.12.2"
  },
  "toc": {
   "base_numbering": 1,
   "nav_menu": {},
   "number_sections": true,
   "sideBar": true,
   "skip_h1_title": false,
   "title_cell": "Table of Contents",
   "title_sidebar": "Contents",
   "toc_cell": false,
   "toc_position": {},
   "toc_section_display": true,
   "toc_window_display": false
  },
  "varInspector": {
   "cols": {
    "lenName": 16,
    "lenType": 16,
    "lenVar": 40
   },
   "kernels_config": {
    "python": {
     "delete_cmd_postfix": "",
     "delete_cmd_prefix": "del ",
     "library": "var_list.py",
     "varRefreshCmd": "print(var_dic_list())"
    },
    "r": {
     "delete_cmd_postfix": ") ",
     "delete_cmd_prefix": "rm(",
     "library": "var_list.r",
     "varRefreshCmd": "cat(var_dic_list()) "
    }
   },
   "types_to_exclude": [
    "module",
    "function",
    "builtin_function_or_method",
    "instance",
    "_Feature"
   ],
   "window_display": false
  }
 },
 "nbformat": 4,
 "nbformat_minor": 5
}
